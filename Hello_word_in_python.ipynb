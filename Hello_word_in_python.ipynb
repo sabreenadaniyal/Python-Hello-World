{
  "nbformat": 4,
  "nbformat_minor": 0,
  "metadata": {
    "colab": {
      "provenance": []
    },
    "kernelspec": {
      "name": "python3",
      "display_name": "Python 3"
    },
    "language_info": {
      "name": "python"
    }
  },
  "cells": [
    {
      "cell_type": "code",
      "execution_count": 1,
      "metadata": {
        "colab": {
          "base_uri": "https://localhost:8080/"
        },
        "id": "tXOATN6I3dVL",
        "outputId": "b4185f4b-e9ec-4aff-e5fa-1662b0a433d0"
      },
      "outputs": [
        {
          "output_type": "stream",
          "name": "stdout",
          "text": [
            "Hello World in Python\n"
          ]
        }
      ],
      "source": [
        "print(\"Hello World in Python\")"
      ]
    }
  ]
}